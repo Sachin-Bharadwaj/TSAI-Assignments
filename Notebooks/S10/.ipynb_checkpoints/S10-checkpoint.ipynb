{
 "cells": [
  {
   "cell_type": "code",
   "execution_count": 1,
   "id": "2359ad56-3fcf-46c1-b353-adb2b53c2f65",
   "metadata": {},
   "outputs": [],
   "source": [
    "import sys\n",
    "sys.path.append(\"../../\")\n",
    "import cv2"
   ]
  },
  {
   "cell_type": "code",
   "execution_count": 10,
   "id": "9d0ea483-183a-4a1a-aa09-ba110d1a1219",
   "metadata": {},
   "outputs": [],
   "source": [
    "import torch\n",
    "import torch.nn as nn\n",
    "import torchvision\n",
    "import torch.optim as optim\n",
    "from torchsummary import summary\n",
    "import albumentations as A\n",
    "from torch_lr_finder import LRFinder\n",
    "\n",
    "from dataloader import get_CIFAR10dataset, CIFAR10_dataset, get_transforms, get_dataloader, get_CIFAR10_musigma\n",
    "from models.custom_resnet import CustomResnet\n",
    "from train import train_epoch, test_epoch\n",
    "from utils import show_samples"
   ]
  },
  {
   "cell_type": "markdown",
   "id": "37a84de9-abe5-43c4-8f3a-a9d359217f3b",
   "metadata": {},
   "source": [
    "# Set Global Config"
   ]
  },
  {
   "cell_type": "code",
   "execution_count": 3,
   "id": "658c7e63-f151-49bf-a911-d06e1fdd3361",
   "metadata": {},
   "outputs": [
    {
     "name": "stdout",
     "output_type": "stream",
     "text": [
      "CUDA Available? cuda\n"
     ]
    }
   ],
   "source": [
    "SEED = 1\n",
    "\n",
    "# CUDA?\n",
    "device = 'cuda' if torch.cuda.is_available() else 'cpu'\n",
    "print(\"CUDA Available?\", device)\n",
    "\n",
    "# For reproducibility\n",
    "torch.manual_seed(SEED)\n",
    "\n",
    "if device=='cuda':\n",
    "    torch.cuda.manual_seed(SEED)"
   ]
  },
  {
   "cell_type": "markdown",
   "id": "dbf16c39-09d3-4c13-9891-d9c724968b26",
   "metadata": {},
   "source": [
    "# Get the data "
   ]
  },
  {
   "cell_type": "code",
   "execution_count": 4,
   "id": "ccd8e783-9434-4105-a045-82cf6287d547",
   "metadata": {},
   "outputs": [
    {
     "name": "stdout",
     "output_type": "stream",
     "text": [
      "Files already downloaded and verified\n",
      "Files already downloaded and verified\n"
     ]
    }
   ],
   "source": [
    "train_data = get_CIFAR10dataset(root=\"../../data\", train_flag=True, download_flag=True)\n",
    "test_data = get_CIFAR10dataset(root=\"../../data\", train_flag=False, download_flag=True)"
   ]
  },
  {
   "cell_type": "markdown",
   "id": "e5b76e8a-47db-4f82-8faf-239488123c44",
   "metadata": {},
   "source": [
    "# Create CIFAR10- Dataset + DataLoader with transforms"
   ]
  },
  {
   "cell_type": "code",
   "execution_count": 5,
   "id": "04ec2256-c253-4cef-b7af-510358c6ca94",
   "metadata": {},
   "outputs": [],
   "source": [
    "bs = 512\n",
    "train_tfms_list = [\n",
    "                  A.PadIfNeeded(min_height=40, min_width=40, border_mode=0, value=get_CIFAR10_musigma()[0], p=1.0), #border_mode=0 needs fill value\n",
    "                  A.RandomCrop(height=32, width=32, p=1.0),\n",
    "                  A.HorizontalFlip(p=0.5),\n",
    "                  A.CoarseDropout(\n",
    "                    max_holes=1,\n",
    "                    max_height=8,\n",
    "                    max_width=8,\n",
    "                    min_holes=1,\n",
    "                    min_height=8,\n",
    "                    min_width=8,\n",
    "                    fill_value=get_CIFAR10_musigma()[0],\n",
    "                    mask_fill_value=None,\n",
    "                    p=0.5,\n",
    "                    )\n",
    "                  ]\n",
    "\n",
    "\n",
    "train_tfms = get_transforms(basic=False, tfms_list=train_tfms_list)\n",
    "test_tfms = get_transforms(basic=True, tfms_list=None)\n",
    "\n",
    "train_ds = CIFAR10_dataset(data=train_data.data, targets=train_data.targets, transforms=train_tfms)\n",
    "test_ds = CIFAR10_dataset(data=test_data.data, targets=test_data.targets, transforms=test_tfms)\n",
    "\n",
    "train_dl = get_dataloader(train_ds, bs_cuda=bs, bs_cpu=64, device=device)\n",
    "test_dl = get_dataloader(test_ds, bs_cuda=bs, bs_cpu=64, device=device)"
   ]
  },
  {
   "cell_type": "markdown",
   "id": "82408644-7f77-4ff1-9c7c-aff7de883560",
   "metadata": {},
   "source": [
    "# visualize some samples from training set"
   ]
  },
  {
   "cell_type": "code",
   "execution_count": 6,
   "id": "78e1ffec-f7dc-46db-b5ff-f5db050cc3d5",
   "metadata": {},
   "outputs": [
    {
     "name": "stderr",
     "output_type": "stream",
     "text": [
      "Clipping input data to the valid range for imshow with RGB data ([0..1] for floats or [0..255] for integers).\n"
     ]
    },
    {
     "data": {
      "image/png": "[encoded data removed]",
      "text/plain": [
       "<Figure size 640x480 with 1 Axes>"
      ]
     },
     "metadata": {},
     "output_type": "display_data"
    },
    {
     "name": "stdout",
     "output_type": "stream",
     "text": [
      "ship  bird  cat   dog  \n"
     ]
    }
   ],
   "source": [
    "# get some random training images\n",
    "dataiter = iter(train_dl)\n",
    "images, labels = next(dataiter)\n",
    "classes = ('plane', 'car', 'bird', 'cat',\n",
    "           'deer', 'dog', 'frog', 'horse', 'ship', 'truck')\n",
    "\n",
    "\n",
    "# show images\n",
    "show_samples(torchvision.utils.make_grid(images[:4]))\n",
    "# print labels\n",
    "print(' '.join(f'{classes[labels[j]]:5s}' for j in range(4)))"
   ]
  },
  {
   "cell_type": "markdown",
   "id": "3913c156-a122-4820-bf6c-a62b10178ba6",
   "metadata": {},
   "source": [
    "# Build the Network"
   ]
  },
  {
   "cell_type": "code",
   "execution_count": 7,
   "id": "5a9d8581-b749-4d39-bbf7-cb857144405f",
   "metadata": {},
   "outputs": [
    {
     "data": {
      "text/plain": [
       "torch.Size([1, 10])"
      ]
     },
     "execution_count": 7,
     "metadata": {},
     "output_type": "execute_result"
    }
   ],
   "source": [
    "model = CustomResnet(inch=3, num_classes=10).to(device)\n",
    "# sanity check\n",
    "xx = torch.rand(1,3,32,32).to(device)\n",
    "yy = model(xx)\n",
    "yy.shape"
   ]
  },
  {
   "cell_type": "code",
   "execution_count": 8,
   "id": "21add5f1-090e-40cf-9ee0-65349211ec0f",
   "metadata": {},
   "outputs": [
    {
     "name": "stdout",
     "output_type": "stream",
     "text": [
      "----------------------------------------------------------------\n",
      "        Layer (type)               Output Shape         Param #\n",
      "================================================================\n",
      "            Conv2d-1           [-1, 64, 32, 32]           1,792\n",
      "       BatchNorm2d-2           [-1, 64, 32, 32]             128\n",
      "              ReLU-3           [-1, 64, 32, 32]               0\n",
      "            Conv2d-4          [-1, 128, 32, 32]          73,856\n",
      "         MaxPool2d-5          [-1, 128, 16, 16]               0\n",
      "       BatchNorm2d-6          [-1, 128, 16, 16]             256\n",
      "              ReLU-7          [-1, 128, 16, 16]               0\n",
      "            Conv2d-8          [-1, 128, 16, 16]         147,456\n",
      "       BatchNorm2d-9          [-1, 128, 16, 16]             256\n",
      "             ReLU-10          [-1, 128, 16, 16]               0\n",
      "           Conv2d-11          [-1, 128, 16, 16]         147,456\n",
      "      BatchNorm2d-12          [-1, 128, 16, 16]             256\n",
      "             ReLU-13          [-1, 128, 16, 16]               0\n",
      "         Resblock-14          [-1, 128, 16, 16]               0\n",
      "           Conv2d-15          [-1, 256, 16, 16]         295,168\n",
      "        MaxPool2d-16            [-1, 256, 8, 8]               0\n",
      "      BatchNorm2d-17            [-1, 256, 8, 8]             512\n",
      "             ReLU-18            [-1, 256, 8, 8]               0\n",
      "           Conv2d-19            [-1, 512, 8, 8]       1,180,160\n",
      "        MaxPool2d-20            [-1, 512, 4, 4]               0\n",
      "      BatchNorm2d-21            [-1, 512, 4, 4]           1,024\n",
      "             ReLU-22            [-1, 512, 4, 4]               0\n",
      "           Conv2d-23            [-1, 512, 4, 4]       2,359,296\n",
      "      BatchNorm2d-24            [-1, 512, 4, 4]           1,024\n",
      "             ReLU-25            [-1, 512, 4, 4]               0\n",
      "           Conv2d-26            [-1, 512, 4, 4]       2,359,296\n",
      "      BatchNorm2d-27            [-1, 512, 4, 4]           1,024\n",
      "             ReLU-28            [-1, 512, 4, 4]               0\n",
      "         Resblock-29            [-1, 512, 4, 4]               0\n",
      "        MaxPool2d-30            [-1, 512, 1, 1]               0\n",
      "           Linear-31                   [-1, 10]           5,120\n",
      "================================================================\n",
      "Total params: 6,574,080\n",
      "Trainable params: 6,574,080\n",
      "Non-trainable params: 0\n",
      "----------------------------------------------------------------\n",
      "Input size (MB): 0.01\n",
      "Forward/backward pass size (MB): 6.75\n",
      "Params size (MB): 25.08\n",
      "Estimated Total Size (MB): 31.84\n",
      "----------------------------------------------------------------\n"
     ]
    }
   ],
   "source": [
    "summary(model, input_size=(3,32,32))"
   ]
  },
  {
   "cell_type": "markdown",
   "id": "876ef15e-3efc-4858-b4e3-a873b121ea8a",
   "metadata": {},
   "source": [
    "# LR Finder"
   ]
  },
  {
   "cell_type": "code",
   "execution_count": 13,
   "id": "365ae9aa-0635-41f8-bfa0-ccfd20c2e2da",
   "metadata": {},
   "outputs": [
    {
     "data": {
      "application/json": {
       "ascii": false,
       "bar_format": null,
       "colour": null,
       "elapsed": 0.002001523971557617,
       "initial": 0,
       "n": 0,
       "ncols": null,
       "nrows": 29,
       "postfix": null,
       "prefix": "",
       "rate": null,
       "total": 100,
       "unit": "it",
       "unit_divisor": 1000,
       "unit_scale": false
      },
      "application/vnd.jupyter.widget-view+json": {
       "model_id": "bf95356c7395486ca1a53a8f558e44b6",
       "version_major": 2,
       "version_minor": 0
      },
      "text/plain": [
       "  0%|          | 0/100 [00:00<?, ?it/s]"
      ]
     },
     "metadata": {},
     "output_type": "display_data"
    },
    {
     "name": "stdout",
     "output_type": "stream",
     "text": [
      "Stopping early, the loss has diverged\n",
      "Learning rate search finished. See the graph with {finder_name}.plot()\n",
      "LR suggestion: steepest gradient\n",
      "Suggested LR: 4.33E-01\n"
     ]
    },
    {
     "data": {
      "image/png": "[encoded data removed]",
      "text/plain": [
       "<Figure size 640x480 with 1 Axes>"
      ]
     },
     "metadata": {},
     "output_type": "display_data"
    }
   ],
   "source": [
    "criterion = nn.CrossEntropyLoss()\n",
    "optimizer = optim.Adam(model.parameters(), lr=1e-7)\n",
    "lr_finder = LRFinder(model, optimizer, criterion, device=\"cuda\")\n",
    "lr_finder.range_test(train_dl, end_lr=100, num_iter=100)\n",
    "lr_finder.plot() # to inspect the loss-learning rate graph\n",
    "lr_finder.reset() # to reset the model and optimizer to their initial state"
   ]
  },
  {
   "cell_type": "markdown",
   "id": "1f8ab8c0-f05b-4575-9207-b3c28596b337",
   "metadata": {},
   "source": [
    "**Summary**\n",
    "- use lower lr = 1e-4 and upper lr = 1e-3 for once cycle scheduling"
   ]
  },
  {
   "cell_type": "markdown",
   "id": "cbea0716-7365-406a-935a-407a8f5d842a",
   "metadata": {},
   "source": [
    "# Train the model"
   ]
  },
  {
   "cell_type": "markdown",
   "id": "e2de4aa6-4b08-4c68-9930-acb213ed2ace",
   "metadata": {},
   "source": [
    "## EXP1"
   ]
  },
  {
   "cell_type": "code",
   "execution_count": 17,
   "id": "21abbb87-a437-4668-994d-255765402d3d",
   "metadata": {},
   "outputs": [],
   "source": [
    "EPOCHS = 24"
   ]
  },
  {
   "cell_type": "code",
   "execution_count": 18,
   "id": "3d278678-6d67-4144-8ec9-a9dba7dd8146",
   "metadata": {},
   "outputs": [
    {
     "name": "stderr",
     "output_type": "stream",
     "text": [
      "  0%|                                                                                           | 0/98 [00:00<?, ?it/s]"
     ]
    },
    {
     "name": "stdout",
     "output_type": "stream",
     "text": [
      "EPOCH: 0\n"
     ]
    },
    {
     "name": "stderr",
     "output_type": "stream",
     "text": [
      "Loss=1.4271705150604248 Batch_id=97 Accuracy=42.32: 100%|██████████████████████████████| 98/98 [00:11<00:00,  8.33it/s]\n",
      "Loss=1.3301280736923218 Batch_id=0 Accuracy=50.98:   1%|▎                               | 1/98 [00:00<00:11,  8.20it/s]"
     ]
    },
    {
     "name": "stdout",
     "output_type": "stream",
     "text": [
      "\n",
      "Test set: Average loss: 1.4139, Accuracy: 4924/10000 (49.24%)\n",
      "\n",
      "EPOCH: 1\n"
     ]
    },
    {
     "name": "stderr",
     "output_type": "stream",
     "text": [
      "Loss=1.0524332523345947 Batch_id=97 Accuracy=58.49: 100%|██████████████████████████████| 98/98 [00:11<00:00,  8.66it/s]\n",
      "Loss=1.0871177911758423 Batch_id=0 Accuracy=62.11:   1%|▎                               | 1/98 [00:00<00:11,  8.47it/s]"
     ]
    },
    {
     "name": "stdout",
     "output_type": "stream",
     "text": [
      "\n",
      "Test set: Average loss: 1.0679, Accuracy: 6182/10000 (61.82%)\n",
      "\n",
      "EPOCH: 2\n"
     ]
    },
    {
     "name": "stderr",
     "output_type": "stream",
     "text": [
      "Loss=0.9233520030975342 Batch_id=97 Accuracy=66.12: 100%|██████████████████████████████| 98/98 [00:11<00:00,  8.57it/s]\n",
      "Loss=0.8663256168365479 Batch_id=0 Accuracy=67.38:   1%|▎                               | 1/98 [00:00<00:11,  8.77it/s]"
     ]
    },
    {
     "name": "stdout",
     "output_type": "stream",
     "text": [
      "\n",
      "Test set: Average loss: 0.8655, Accuracy: 6962/10000 (69.62%)\n",
      "\n",
      "EPOCH: 3\n"
     ]
    },
    {
     "name": "stderr",
     "output_type": "stream",
     "text": [
      "Loss=0.8315924406051636 Batch_id=97 Accuracy=71.01: 100%|██████████████████████████████| 98/98 [00:11<00:00,  8.41it/s]\n",
      "Loss=0.7490741014480591 Batch_id=0 Accuracy=72.66:   1%|▎                               | 1/98 [00:00<00:11,  8.40it/s]"
     ]
    },
    {
     "name": "stdout",
     "output_type": "stream",
     "text": [
      "\n",
      "Test set: Average loss: 0.7780, Accuracy: 7263/10000 (72.63%)\n",
      "\n",
      "EPOCH: 4\n"
     ]
    },
    {
     "name": "stderr",
     "output_type": "stream",
     "text": [
      "Loss=0.665644109249115 Batch_id=97 Accuracy=74.91: 100%|███████████████████████████████| 98/98 [00:11<00:00,  8.36it/s]\n",
      "Loss=0.635718822479248 Batch_id=0 Accuracy=77.15:   1%|▎                                | 1/98 [00:00<00:11,  8.31it/s]"
     ]
    },
    {
     "name": "stdout",
     "output_type": "stream",
     "text": [
      "\n",
      "Test set: Average loss: 0.6867, Accuracy: 7571/10000 (75.71%)\n",
      "\n",
      "EPOCH: 5\n"
     ]
    },
    {
     "name": "stderr",
     "output_type": "stream",
     "text": [
      "Loss=0.7236994504928589 Batch_id=97 Accuracy=77.45: 100%|██████████████████████████████| 98/98 [00:11<00:00,  8.27it/s]\n",
      "Loss=0.6033105254173279 Batch_id=0 Accuracy=78.52:   1%|▎                               | 1/98 [00:00<00:12,  8.07it/s]"
     ]
    },
    {
     "name": "stdout",
     "output_type": "stream",
     "text": [
      "\n",
      "Test set: Average loss: 0.6565, Accuracy: 7694/10000 (76.94%)\n",
      "\n",
      "EPOCH: 6\n"
     ]
    },
    {
     "name": "stderr",
     "output_type": "stream",
     "text": [
      "Loss=0.5914109349250793 Batch_id=97 Accuracy=79.34: 100%|██████████████████████████████| 98/98 [00:12<00:00,  8.14it/s]\n",
      "Loss=0.5131746530532837 Batch_id=0 Accuracy=82.03:   1%|▎                               | 1/98 [00:00<00:11,  8.42it/s]"
     ]
    },
    {
     "name": "stdout",
     "output_type": "stream",
     "text": [
      "\n",
      "Test set: Average loss: 0.6244, Accuracy: 7799/10000 (77.99%)\n",
      "\n",
      "EPOCH: 7\n"
     ]
    },
    {
     "name": "stderr",
     "output_type": "stream",
     "text": [
      "Loss=0.49900907278060913 Batch_id=97 Accuracy=81.21: 100%|█████████████████████████████| 98/98 [00:12<00:00,  8.08it/s]\n",
      "Loss=0.500974714756012 Batch_id=0 Accuracy=80.66:   1%|▎                                | 1/98 [00:00<00:11,  8.33it/s]"
     ]
    },
    {
     "name": "stdout",
     "output_type": "stream",
     "text": [
      "\n",
      "Test set: Average loss: 0.5864, Accuracy: 7954/10000 (79.54%)\n",
      "\n",
      "EPOCH: 8\n"
     ]
    },
    {
     "name": "stderr",
     "output_type": "stream",
     "text": [
      "Loss=0.5380673408508301 Batch_id=97 Accuracy=82.31: 100%|██████████████████████████████| 98/98 [00:12<00:00,  7.85it/s]\n",
      "Loss=0.5199567675590515 Batch_id=0 Accuracy=83.01:   1%|▎                               | 1/98 [00:00<00:12,  7.54it/s]"
     ]
    },
    {
     "name": "stdout",
     "output_type": "stream",
     "text": [
      "\n",
      "Test set: Average loss: 0.5700, Accuracy: 8087/10000 (80.87%)\n",
      "\n",
      "EPOCH: 9\n"
     ]
    },
    {
     "name": "stderr",
     "output_type": "stream",
     "text": [
      "Loss=0.4719240665435791 Batch_id=97 Accuracy=83.75: 100%|██████████████████████████████| 98/98 [00:12<00:00,  7.66it/s]\n",
      "Loss=0.4032632112503052 Batch_id=0 Accuracy=85.35:   1%|▎                               | 1/98 [00:00<00:13,  7.41it/s]"
     ]
    },
    {
     "name": "stdout",
     "output_type": "stream",
     "text": [
      "\n",
      "Test set: Average loss: 0.5320, Accuracy: 8180/10000 (81.80%)\n",
      "\n",
      "EPOCH: 10\n"
     ]
    },
    {
     "name": "stderr",
     "output_type": "stream",
     "text": [
      "Loss=0.4424283504486084 Batch_id=97 Accuracy=85.12: 100%|██████████████████████████████| 98/98 [00:13<00:00,  7.40it/s]\n",
      "Loss=0.4272673726081848 Batch_id=0 Accuracy=85.16:   1%|▎                               | 1/98 [00:00<00:13,  7.14it/s]"
     ]
    },
    {
     "name": "stdout",
     "output_type": "stream",
     "text": [
      "\n",
      "Test set: Average loss: 0.5106, Accuracy: 8259/10000 (82.59%)\n",
      "\n",
      "EPOCH: 11\n"
     ]
    },
    {
     "name": "stderr",
     "output_type": "stream",
     "text": [
      "Loss=0.4121241867542267 Batch_id=97 Accuracy=86.19: 100%|██████████████████████████████| 98/98 [00:13<00:00,  7.34it/s]\n",
      "Loss=0.4012131989002228 Batch_id=0 Accuracy=86.52:   1%|▎                               | 1/98 [00:00<00:12,  7.46it/s]"
     ]
    },
    {
     "name": "stdout",
     "output_type": "stream",
     "text": [
      "\n",
      "Test set: Average loss: 0.4997, Accuracy: 8332/10000 (83.32%)\n",
      "\n",
      "EPOCH: 12\n"
     ]
    },
    {
     "name": "stderr",
     "output_type": "stream",
     "text": [
      "Loss=0.45600980520248413 Batch_id=97 Accuracy=86.78: 100%|█████████████████████████████| 98/98 [00:13<00:00,  7.30it/s]\n",
      "Loss=0.3903787136077881 Batch_id=0 Accuracy=86.72:   1%|▎                               | 1/98 [00:00<00:13,  7.25it/s]"
     ]
    },
    {
     "name": "stdout",
     "output_type": "stream",
     "text": [
      "\n",
      "Test set: Average loss: 0.5029, Accuracy: 8294/10000 (82.94%)\n",
      "\n",
      "EPOCH: 13\n"
     ]
    },
    {
     "name": "stderr",
     "output_type": "stream",
     "text": [
      "Loss=0.34801170229911804 Batch_id=97 Accuracy=87.72: 100%|█████████████████████████████| 98/98 [00:13<00:00,  7.23it/s]\n",
      "Loss=0.3616517186164856 Batch_id=0 Accuracy=87.70:   1%|▎                               | 1/98 [00:00<00:13,  7.30it/s]"
     ]
    },
    {
     "name": "stdout",
     "output_type": "stream",
     "text": [
      "\n",
      "Test set: Average loss: 0.4842, Accuracy: 8325/10000 (83.25%)\n",
      "\n",
      "EPOCH: 14\n"
     ]
    },
    {
     "name": "stderr",
     "output_type": "stream",
     "text": [
      "Loss=0.34428924322128296 Batch_id=97 Accuracy=88.43: 100%|█████████████████████████████| 98/98 [00:13<00:00,  7.19it/s]\n",
      "Loss=0.31196117401123047 Batch_id=0 Accuracy=90.23:   1%|▎                              | 1/98 [00:00<00:13,  7.25it/s]"
     ]
    },
    {
     "name": "stdout",
     "output_type": "stream",
     "text": [
      "\n",
      "Test set: Average loss: 0.4788, Accuracy: 8421/10000 (84.21%)\n",
      "\n",
      "EPOCH: 15\n"
     ]
    },
    {
     "name": "stderr",
     "output_type": "stream",
     "text": [
      "Loss=0.36662182211875916 Batch_id=97 Accuracy=89.09: 100%|█████████████████████████████| 98/98 [00:13<00:00,  7.08it/s]\n",
      "Loss=0.352965772151947 Batch_id=0 Accuracy=88.67:   1%|▎                                | 1/98 [00:00<00:12,  7.70it/s]"
     ]
    },
    {
     "name": "stdout",
     "output_type": "stream",
     "text": [
      "\n",
      "Test set: Average loss: 0.4750, Accuracy: 8361/10000 (83.61%)\n",
      "\n",
      "EPOCH: 16\n"
     ]
    },
    {
     "name": "stderr",
     "output_type": "stream",
     "text": [
      "Loss=0.3248607814311981 Batch_id=97 Accuracy=89.90: 100%|██████████████████████████████| 98/98 [00:14<00:00,  6.89it/s]\n",
      "Loss=0.29348474740982056 Batch_id=0 Accuracy=89.84:   1%|▎                              | 1/98 [00:00<00:14,  6.85it/s]"
     ]
    },
    {
     "name": "stdout",
     "output_type": "stream",
     "text": [
      "\n",
      "Test set: Average loss: 0.4390, Accuracy: 8542/10000 (85.42%)\n",
      "\n",
      "EPOCH: 17\n"
     ]
    },
    {
     "name": "stderr",
     "output_type": "stream",
     "text": [
      "Loss=0.27187153697013855 Batch_id=97 Accuracy=90.30: 100%|█████████████████████████████| 98/98 [00:14<00:00,  6.94it/s]\n",
      "Loss=0.2726097106933594 Batch_id=0 Accuracy=91.21:   1%|▎                               | 1/98 [00:00<00:14,  6.89it/s]"
     ]
    },
    {
     "name": "stdout",
     "output_type": "stream",
     "text": [
      "\n",
      "Test set: Average loss: 0.4542, Accuracy: 8509/10000 (85.09%)\n",
      "\n",
      "EPOCH: 18\n"
     ]
    },
    {
     "name": "stderr",
     "output_type": "stream",
     "text": [
      "Loss=0.29279327392578125 Batch_id=97 Accuracy=90.87: 100%|█████████████████████████████| 98/98 [00:14<00:00,  6.97it/s]\n",
      "Loss=0.25268301367759705 Batch_id=0 Accuracy=90.82:   1%|▎                              | 1/98 [00:00<00:15,  6.21it/s]"
     ]
    },
    {
     "name": "stdout",
     "output_type": "stream",
     "text": [
      "\n",
      "Test set: Average loss: 0.4351, Accuracy: 8567/10000 (85.67%)\n",
      "\n",
      "EPOCH: 19\n"
     ]
    },
    {
     "name": "stderr",
     "output_type": "stream",
     "text": [
      "Loss=0.21682961285114288 Batch_id=97 Accuracy=91.45: 100%|█████████████████████████████| 98/98 [00:14<00:00,  6.95it/s]\n",
      "Loss=0.21486599743366241 Batch_id=0 Accuracy=93.16:   1%|▎                              | 1/98 [00:00<00:14,  6.66it/s]"
     ]
    },
    {
     "name": "stdout",
     "output_type": "stream",
     "text": [
      "\n",
      "Test set: Average loss: 0.4432, Accuracy: 8515/10000 (85.15%)\n",
      "\n",
      "EPOCH: 20\n"
     ]
    },
    {
     "name": "stderr",
     "output_type": "stream",
     "text": [
      "Loss=0.19100020825862885 Batch_id=97 Accuracy=91.81: 100%|█████████████████████████████| 98/98 [00:14<00:00,  6.87it/s]\n",
      "Loss=0.19610509276390076 Batch_id=0 Accuracy=93.36:   1%|▎                              | 1/98 [00:00<00:15,  6.41it/s]"
     ]
    },
    {
     "name": "stdout",
     "output_type": "stream",
     "text": [
      "\n",
      "Test set: Average loss: 0.4198, Accuracy: 8608/10000 (86.08%)\n",
      "\n",
      "EPOCH: 21\n"
     ]
    },
    {
     "name": "stderr",
     "output_type": "stream",
     "text": [
      "Loss=0.25902312994003296 Batch_id=97 Accuracy=92.35: 100%|█████████████████████████████| 98/98 [00:14<00:00,  6.91it/s]\n",
      "Loss=0.24929319322109222 Batch_id=0 Accuracy=90.43:   1%|▎                              | 1/98 [00:00<00:15,  6.45it/s]"
     ]
    },
    {
     "name": "stdout",
     "output_type": "stream",
     "text": [
      "\n",
      "Test set: Average loss: 0.4211, Accuracy: 8619/10000 (86.19%)\n",
      "\n",
      "EPOCH: 22\n"
     ]
    },
    {
     "name": "stderr",
     "output_type": "stream",
     "text": [
      "Loss=0.26363420486450195 Batch_id=97 Accuracy=92.67: 100%|█████████████████████████████| 98/98 [00:14<00:00,  6.83it/s]\n",
      "Loss=0.23903188109397888 Batch_id=0 Accuracy=91.21:   1%|▎                              | 1/98 [00:00<00:14,  6.80it/s]"
     ]
    },
    {
     "name": "stdout",
     "output_type": "stream",
     "text": [
      "\n",
      "Test set: Average loss: 0.4507, Accuracy: 8521/10000 (85.21%)\n",
      "\n",
      "EPOCH: 23\n"
     ]
    },
    {
     "name": "stderr",
     "output_type": "stream",
     "text": [
      "Loss=0.20197443664073944 Batch_id=97 Accuracy=92.89: 100%|█████████████████████████████| 98/98 [00:14<00:00,  6.71it/s]\n"
     ]
    },
    {
     "name": "stdout",
     "output_type": "stream",
     "text": [
      "\n",
      "Test set: Average loss: 0.4105, Accuracy: 8668/10000 (86.68%)\n",
      "\n"
     ]
    }
   ],
   "source": [
    "criterion = nn.CrossEntropyLoss()\n",
    "criterion_test = nn.CrossEntropyLoss(reduction = 'sum')\n",
    "optimizer = optim.Adam(model.parameters(), lr=1e-7)\n",
    "scheduler = optim.lr_scheduler.OneCycleLR(optimizer=optimizer, max_lr=1e-3, epochs=EPOCHS, steps_per_epoch=len(train_dl), pct_start=0.2, div_factor=10)\n",
    "\n",
    "train_stats = {}\n",
    "test_stats = {}\n",
    "for epoch in range(EPOCHS):\n",
    "    print(\"EPOCH:\", epoch)\n",
    "    train_epoch(model, device, train_dl, optimizer, criterion, epoch, train_stats)\n",
    "    scheduler.step()\n",
    "    test_epoch(model, device, test_dl, criterion_test, test_stats)\n"
   ]
  },
  {
   "cell_type": "markdown",
   "id": "c54bac23-55eb-4355-8c6b-cab72303d3ae",
   "metadata": {},
   "source": [
    "**Summary**\n",
    "- We used Once cycle LR scheduling\n",
    "- Our constraints are\n",
    "  - Network architecture fixed\n",
    "  - Max Epochs = 24\n",
    "  - high lr = 1e-3\n",
    "  - low lr = 1e-4\n",
    "  - Max @ epoch = 5\n",
    "- We could see that netowrk is overfitting, so lets try and add L2 regularization"
   ]
  },
  {
   "cell_type": "markdown",
   "id": "b5490206-f187-4c05-82ea-88443635c1a2",
   "metadata": {},
   "source": [
    "## EXP2 (Exp1 + L2 regularization)"
   ]
  },
  {
   "cell_type": "code",
   "execution_count": 25,
   "id": "4d47fad5-53f5-436a-9246-38e02a87fe03",
   "metadata": {},
   "outputs": [
    {
     "data": {
      "application/json": {
       "ascii": false,
       "bar_format": null,
       "colour": null,
       "elapsed": 0.002000093460083008,
       "initial": 0,
       "n": 0,
       "ncols": null,
       "nrows": 29,
       "postfix": null,
       "prefix": "",
       "rate": null,
       "total": 100,
       "unit": "it",
       "unit_divisor": 1000,
       "unit_scale": false
      },
      "application/vnd.jupyter.widget-view+json": {
       "model_id": "47e4cd2f99ca4cc09c1df6e53277e9f2",
       "version_major": 2,
       "version_minor": 0
      },
      "text/plain": [
       "  0%|          | 0/100 [00:00<?, ?it/s]"
      ]
     },
     "metadata": {},
     "output_type": "display_data"
    },
    {
     "name": "stdout",
     "output_type": "stream",
     "text": [
      "Stopping early, the loss has diverged\n",
      "Learning rate search finished. See the graph with {finder_name}.plot()\n",
      "LR suggestion: steepest gradient\n",
      "Suggested LR: 6.58E-05\n"
     ]
    },
    {
     "data": {
      "image/png": "[encoded data removed]",
      "text/plain": [
       "<Figure size 640x480 with 1 Axes>"
      ]
     },
     "metadata": {},
     "output_type": "display_data"
    }
   ],
   "source": [
    "# LR finder with regularization\n",
    "model = CustomResnet(inch=3, num_classes=10).to(device)\n",
    "criterion = nn.CrossEntropyLoss()\n",
    "optimizer = optim.Adam(model.parameters(), lr=1e-7, weight_decay=1e-1)\n",
    "lr_finder = LRFinder(model, optimizer, criterion, device=\"cuda\")\n",
    "lr_finder.range_test(train_dl, end_lr=100, num_iter=100)\n",
    "lr_finder.plot() # to inspect the loss-learning rate graph\n",
    "lr_finder.reset() # to reset the model and optimizer to their initial state"
   ]
  },
  {
   "cell_type": "code",
   "execution_count": 34,
   "id": "fa6b7e52-03cb-4ca3-a93f-d0df99b16579",
   "metadata": {},
   "outputs": [
    {
     "name": "stderr",
     "output_type": "stream",
     "text": [
      "  0%|                                                                                           | 0/98 [00:00<?, ?it/s]"
     ]
    },
    {
     "name": "stdout",
     "output_type": "stream",
     "text": [
      "EPOCH: 0\n"
     ]
    },
    {
     "name": "stderr",
     "output_type": "stream",
     "text": [
      "Loss=1.0803993940353394 Batch_id=97 Accuracy=47.40: 100%|██████████████████████████████| 98/98 [00:12<00:00,  7.91it/s]\n",
      "Loss=1.1204352378845215 Batch_id=0 Accuracy=59.96:   1%|▎                               | 1/98 [00:00<00:12,  7.69it/s]"
     ]
    },
    {
     "name": "stdout",
     "output_type": "stream",
     "text": [
      "\n",
      "Test set: Average loss: 1.1511, Accuracy: 5867/10000 (58.67%)\n",
      "\n",
      "EPOCH: 1\n"
     ]
    },
    {
     "name": "stderr",
     "output_type": "stream",
     "text": [
      "Loss=0.8259543180465698 Batch_id=97 Accuracy=67.06: 100%|██████████████████████████████| 98/98 [00:12<00:00,  7.72it/s]\n",
      "Loss=0.6994631290435791 Batch_id=0 Accuracy=77.15:   1%|▎                               | 1/98 [00:00<00:12,  7.49it/s]"
     ]
    },
    {
     "name": "stdout",
     "output_type": "stream",
     "text": [
      "\n",
      "Test set: Average loss: 0.7570, Accuracy: 7342/10000 (73.42%)\n",
      "\n",
      "EPOCH: 2\n"
     ]
    },
    {
     "name": "stderr",
     "output_type": "stream",
     "text": [
      "Loss=0.6646963953971863 Batch_id=97 Accuracy=73.98: 100%|██████████████████████████████| 98/98 [00:14<00:00,  6.88it/s]\n",
      "Loss=0.6165410876274109 Batch_id=0 Accuracy=79.30:   1%|▎                               | 1/98 [00:00<00:14,  6.85it/s]"
     ]
    },
    {
     "name": "stdout",
     "output_type": "stream",
     "text": [
      "\n",
      "Test set: Average loss: 0.6743, Accuracy: 7674/10000 (76.74%)\n",
      "\n",
      "EPOCH: 3\n"
     ]
    },
    {
     "name": "stderr",
     "output_type": "stream",
     "text": [
      "Loss=0.5940371751785278 Batch_id=97 Accuracy=77.94: 100%|██████████████████████████████| 98/98 [00:14<00:00,  6.59it/s]\n",
      "Loss=0.6503710150718689 Batch_id=0 Accuracy=79.69:   0%|                                        | 0/98 [00:00<?, ?it/s]"
     ]
    },
    {
     "name": "stdout",
     "output_type": "stream",
     "text": [
      "\n",
      "Test set: Average loss: 0.7500, Accuracy: 7538/10000 (75.38%)\n",
      "\n",
      "EPOCH: 4\n"
     ]
    },
    {
     "name": "stderr",
     "output_type": "stream",
     "text": [
      "Loss=0.5603394508361816 Batch_id=97 Accuracy=81.31: 100%|██████████████████████████████| 98/98 [00:16<00:00,  5.92it/s]\n",
      "Loss=0.4480467736721039 Batch_id=0 Accuracy=85.94:   0%|                                        | 0/98 [00:00<?, ?it/s]"
     ]
    },
    {
     "name": "stdout",
     "output_type": "stream",
     "text": [
      "\n",
      "Test set: Average loss: 0.6294, Accuracy: 7861/10000 (78.61%)\n",
      "\n",
      "EPOCH: 5\n"
     ]
    },
    {
     "name": "stderr",
     "output_type": "stream",
     "text": [
      "Loss=0.4815370440483093 Batch_id=97 Accuracy=83.54: 100%|██████████████████████████████| 98/98 [00:18<00:00,  5.24it/s]\n",
      "Loss=0.4224529266357422 Batch_id=0 Accuracy=85.94:   0%|                                        | 0/98 [00:00<?, ?it/s]"
     ]
    },
    {
     "name": "stdout",
     "output_type": "stream",
     "text": [
      "\n",
      "Test set: Average loss: 0.6172, Accuracy: 7907/10000 (79.07%)\n",
      "\n",
      "EPOCH: 6\n"
     ]
    },
    {
     "name": "stderr",
     "output_type": "stream",
     "text": [
      "Loss=0.4965754449367523 Batch_id=97 Accuracy=84.71: 100%|██████████████████████████████| 98/98 [00:22<00:00,  4.44it/s]\n",
      "Loss=0.39056286215782166 Batch_id=0 Accuracy=84.96:   1%|▎                              | 1/98 [00:00<00:15,  6.33it/s]"
     ]
    },
    {
     "name": "stdout",
     "output_type": "stream",
     "text": [
      "\n",
      "Test set: Average loss: 0.5245, Accuracy: 8237/10000 (82.37%)\n",
      "\n",
      "EPOCH: 7\n"
     ]
    },
    {
     "name": "stderr",
     "output_type": "stream",
     "text": [
      "Loss=0.4477407932281494 Batch_id=97 Accuracy=85.79: 100%|██████████████████████████████| 98/98 [00:19<00:00,  4.92it/s]\n",
      "Loss=0.32067275047302246 Batch_id=0 Accuracy=90.04:   1%|▎                              | 1/98 [00:00<00:16,  6.06it/s]"
     ]
    },
    {
     "name": "stdout",
     "output_type": "stream",
     "text": [
      "\n",
      "Test set: Average loss: 0.5261, Accuracy: 8235/10000 (82.35%)\n",
      "\n",
      "EPOCH: 8\n"
     ]
    },
    {
     "name": "stderr",
     "output_type": "stream",
     "text": [
      "Loss=0.3730134963989258 Batch_id=97 Accuracy=86.91: 100%|██████████████████████████████| 98/98 [00:23<00:00,  4.20it/s]\n",
      "  0%|                                                                                           | 0/98 [00:00<?, ?it/s]"
     ]
    },
    {
     "name": "stdout",
     "output_type": "stream",
     "text": [
      "\n",
      "Test set: Average loss: 0.9160, Accuracy: 7336/10000 (73.36%)\n",
      "\n",
      "EPOCH: 9\n"
     ]
    },
    {
     "name": "stderr",
     "output_type": "stream",
     "text": [
      "Loss=0.4136306643486023 Batch_id=97 Accuracy=87.78: 100%|██████████████████████████████| 98/98 [00:23<00:00,  4.22it/s]\n",
      "  0%|                                                                                           | 0/98 [00:00<?, ?it/s]"
     ]
    },
    {
     "name": "stdout",
     "output_type": "stream",
     "text": [
      "\n",
      "Test set: Average loss: 0.4687, Accuracy: 8441/10000 (84.41%)\n",
      "\n",
      "EPOCH: 10\n"
     ]
    },
    {
     "name": "stderr",
     "output_type": "stream",
     "text": [
      "Loss=0.37636807560920715 Batch_id=97 Accuracy=88.33: 100%|█████████████████████████████| 98/98 [00:27<00:00,  3.57it/s]\n",
      "  0%|                                                                                           | 0/98 [00:00<?, ?it/s]"
     ]
    },
    {
     "name": "stdout",
     "output_type": "stream",
     "text": [
      "\n",
      "Test set: Average loss: 0.4752, Accuracy: 8420/10000 (84.20%)\n",
      "\n",
      "EPOCH: 11\n"
     ]
    },
    {
     "name": "stderr",
     "output_type": "stream",
     "text": [
      "Loss=0.31336018443107605 Batch_id=97 Accuracy=89.13: 100%|█████████████████████████████| 98/98 [00:28<00:00,  3.44it/s]\n",
      "Loss=0.24269717931747437 Batch_id=0 Accuracy=91.02:   1%|▎                              | 1/98 [00:00<00:15,  6.31it/s]"
     ]
    },
    {
     "name": "stdout",
     "output_type": "stream",
     "text": [
      "\n",
      "Test set: Average loss: 0.4027, Accuracy: 8660/10000 (86.60%)\n",
      "\n",
      "EPOCH: 12\n"
     ]
    },
    {
     "name": "stderr",
     "output_type": "stream",
     "text": [
      "Loss=0.3489437401294708 Batch_id=97 Accuracy=89.98: 100%|██████████████████████████████| 98/98 [00:24<00:00,  4.03it/s]\n",
      "  0%|                                                                                           | 0/98 [00:00<?, ?it/s]"
     ]
    },
    {
     "name": "stdout",
     "output_type": "stream",
     "text": [
      "\n",
      "Test set: Average loss: 0.5077, Accuracy: 8292/10000 (82.92%)\n",
      "\n",
      "EPOCH: 13\n"
     ]
    },
    {
     "name": "stderr",
     "output_type": "stream",
     "text": [
      "Loss=0.3176877498626709 Batch_id=97 Accuracy=90.93: 100%|██████████████████████████████| 98/98 [00:23<00:00,  4.19it/s]\n",
      "  0%|                                                                                           | 0/98 [00:00<?, ?it/s]"
     ]
    },
    {
     "name": "stdout",
     "output_type": "stream",
     "text": [
      "\n",
      "Test set: Average loss: 0.4174, Accuracy: 8621/10000 (86.21%)\n",
      "\n",
      "EPOCH: 14\n"
     ]
    },
    {
     "name": "stderr",
     "output_type": "stream",
     "text": [
      "Loss=0.2957656681537628 Batch_id=97 Accuracy=91.69: 100%|██████████████████████████████| 98/98 [00:24<00:00,  4.08it/s]\n",
      "Loss=0.18219396471977234 Batch_id=0 Accuracy=95.31:   1%|▎                              | 1/98 [00:00<00:15,  6.28it/s]"
     ]
    },
    {
     "name": "stdout",
     "output_type": "stream",
     "text": [
      "\n",
      "Test set: Average loss: 0.4094, Accuracy: 8657/10000 (86.57%)\n",
      "\n",
      "EPOCH: 15\n"
     ]
    },
    {
     "name": "stderr",
     "output_type": "stream",
     "text": [
      "Loss=0.19423767924308777 Batch_id=97 Accuracy=92.81: 100%|█████████████████████████████| 98/98 [00:22<00:00,  4.44it/s]\n",
      "Loss=0.15200193226337433 Batch_id=0 Accuracy=94.73:   1%|▎                              | 1/98 [00:00<00:15,  6.29it/s]"
     ]
    },
    {
     "name": "stdout",
     "output_type": "stream",
     "text": [
      "\n",
      "Test set: Average loss: 0.3330, Accuracy: 8898/10000 (88.98%)\n",
      "\n",
      "EPOCH: 16\n"
     ]
    },
    {
     "name": "stderr",
     "output_type": "stream",
     "text": [
      "Loss=0.20925556123256683 Batch_id=97 Accuracy=93.63: 100%|█████████████████████████████| 98/98 [00:17<00:00,  5.63it/s]\n",
      "Loss=0.18012075126171112 Batch_id=0 Accuracy=92.97:   1%|▎                              | 1/98 [00:00<00:15,  6.37it/s]"
     ]
    },
    {
     "name": "stdout",
     "output_type": "stream",
     "text": [
      "\n",
      "Test set: Average loss: 0.3130, Accuracy: 9006/10000 (90.06%)\n",
      "\n",
      "EPOCH: 17\n"
     ]
    },
    {
     "name": "stderr",
     "output_type": "stream",
     "text": [
      "Loss=0.1323138177394867 Batch_id=97 Accuracy=94.62: 100%|██████████████████████████████| 98/98 [00:15<00:00,  6.52it/s]\n",
      "Loss=0.10765144973993301 Batch_id=0 Accuracy=96.48:   1%|▎                              | 1/98 [00:00<00:14,  6.80it/s]"
     ]
    },
    {
     "name": "stdout",
     "output_type": "stream",
     "text": [
      "\n",
      "Test set: Average loss: 0.3161, Accuracy: 9001/10000 (90.01%)\n",
      "\n",
      "EPOCH: 18\n"
     ]
    },
    {
     "name": "stderr",
     "output_type": "stream",
     "text": [
      "Loss=0.1381497085094452 Batch_id=97 Accuracy=96.01: 100%|██████████████████████████████| 98/98 [00:14<00:00,  6.54it/s]\n",
      "Loss=0.1237594485282898 Batch_id=0 Accuracy=96.09:   1%|▎                               | 1/98 [00:00<00:14,  6.50it/s]"
     ]
    },
    {
     "name": "stdout",
     "output_type": "stream",
     "text": [
      "\n",
      "Test set: Average loss: 0.2566, Accuracy: 9194/10000 (91.94%)\n",
      "\n",
      "EPOCH: 19\n"
     ]
    },
    {
     "name": "stderr",
     "output_type": "stream",
     "text": [
      "Loss=0.14875657856464386 Batch_id=97 Accuracy=96.83: 100%|█████████████████████████████| 98/98 [00:15<00:00,  6.53it/s]\n",
      "Loss=0.07919993996620178 Batch_id=0 Accuracy=98.05:   1%|▎                              | 1/98 [00:00<00:15,  6.10it/s]"
     ]
    },
    {
     "name": "stdout",
     "output_type": "stream",
     "text": [
      "\n",
      "Test set: Average loss: 0.2407, Accuracy: 9252/10000 (92.52%)\n",
      "\n",
      "EPOCH: 20\n"
     ]
    },
    {
     "name": "stderr",
     "output_type": "stream",
     "text": [
      "Loss=0.0969904288649559 Batch_id=97 Accuracy=97.51: 100%|██████████████████████████████| 98/98 [00:14<00:00,  6.68it/s]\n",
      "Loss=0.11664631217718124 Batch_id=0 Accuracy=96.88:   1%|▎                              | 1/98 [00:00<00:14,  6.86it/s]"
     ]
    },
    {
     "name": "stdout",
     "output_type": "stream",
     "text": [
      "\n",
      "Test set: Average loss: 0.2299, Accuracy: 9284/10000 (92.84%)\n",
      "\n",
      "EPOCH: 21\n"
     ]
    },
    {
     "name": "stderr",
     "output_type": "stream",
     "text": [
      "Loss=0.08551981300115585 Batch_id=97 Accuracy=98.04: 100%|█████████████████████████████| 98/98 [00:14<00:00,  6.72it/s]\n",
      "Loss=0.05213812366127968 Batch_id=0 Accuracy=98.24:   1%|▎                              | 1/98 [00:00<00:15,  6.17it/s]"
     ]
    },
    {
     "name": "stdout",
     "output_type": "stream",
     "text": [
      "\n",
      "Test set: Average loss: 0.2172, Accuracy: 9316/10000 (93.16%)\n",
      "\n",
      "EPOCH: 22\n"
     ]
    },
    {
     "name": "stderr",
     "output_type": "stream",
     "text": [
      "Loss=0.06619023531675339 Batch_id=97 Accuracy=98.26: 100%|█████████████████████████████| 98/98 [00:14<00:00,  6.60it/s]\n",
      "Loss=0.07580714672803879 Batch_id=0 Accuracy=97.66:   1%|▎                              | 1/98 [00:00<00:15,  6.21it/s]"
     ]
    },
    {
     "name": "stdout",
     "output_type": "stream",
     "text": [
      "\n",
      "Test set: Average loss: 0.2161, Accuracy: 9323/10000 (93.23%)\n",
      "\n",
      "EPOCH: 23\n"
     ]
    },
    {
     "name": "stderr",
     "output_type": "stream",
     "text": [
      "Loss=0.050961896777153015 Batch_id=97 Accuracy=98.44: 100%|████████████████████████████| 98/98 [00:14<00:00,  6.57it/s]\n"
     ]
    },
    {
     "name": "stdout",
     "output_type": "stream",
     "text": [
      "\n",
      "Test set: Average loss: 0.2168, Accuracy: 9324/10000 (93.24%)\n",
      "\n"
     ]
    }
   ],
   "source": [
    "model = CustomResnet(inch=3, num_classes=10).to(device)\n",
    "criterion = nn.CrossEntropyLoss()\n",
    "criterion_test = nn.CrossEntropyLoss(reduction = 'sum')\n",
    "optimizer = optim.Adam(model.parameters(), lr=2e-3,  weight_decay=1e-3)\n",
    "scheduler = optim.lr_scheduler.OneCycleLR(optimizer=optimizer, max_lr=2e-3, epochs=EPOCHS, steps_per_epoch=1, \\\n",
    "                                          pct_start=0.2, div_factor=5)\n",
    "\n",
    "train_stats = {}\n",
    "test_stats = {}\n",
    "for epoch in range(EPOCHS):\n",
    "    print(\"EPOCH:\", epoch)\n",
    "    train_epoch(model, device, train_dl, optimizer, criterion, epoch, train_stats)\n",
    "    scheduler.step()\n",
    "    test_epoch(model, device, test_dl, criterion_test, test_stats)\n"
   ]
  },
  {
   "cell_type": "markdown",
   "id": "75329a16-397f-4280-b286-89476338eb64",
   "metadata": {},
   "source": [
    "**Summary**\n",
    "- We achieved our target of test acc > 90% in epochs > 17 consistently\n",
    "- Difference b/w train and test acc is < 5% (so within limits of overfitting target)"
   ]
  },
  {
   "cell_type": "code",
   "execution_count": null,
   "id": "1866559f-8fe3-40d9-8a6f-29dda5b1fdd4",
   "metadata": {},
   "outputs": [],
   "source": []
  }
 ],
 "metadata": {
  "kernelspec": {
   "display_name": "Python 3 (ipykernel)",
   "language": "python",
   "name": "python3"
  },
  "language_info": {
   "codemirror_mode": {
    "name": "ipython",
    "version": 3
   },
   "file_extension": ".py",
   "mimetype": "text/x-python",
   "name": "python",
   "nbconvert_exporter": "python",
   "pygments_lexer": "ipython3",
   "version": "3.9.18"
  }
 },
 "nbformat": 4,
 "nbformat_minor": 5
}
